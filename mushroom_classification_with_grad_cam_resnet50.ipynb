{
 "cells": [
  {
   "cell_type": "code",
   "execution_count": 1,
   "metadata": {
    "colab": {
     "base_uri": "https://localhost:8080/"
    },
    "id": "4zJ0dxjf62cJ",
    "outputId": "077c40f1-ef0c-4040-f91c-0f5a50734bcc"
   },
   "outputs": [
    {
     "name": "stdout",
     "output_type": "stream",
     "text": [
      "/content/drive/MyDrive/mushrooms-classification\n"
     ]
    }
   ],
   "source": [
    "%cd /content/drive/MyDrive/mushrooms-classification"
   ]
  },
  {
   "cell_type": "code",
   "execution_count": 8,
   "metadata": {
    "id": "rPl8PeQf6yjx"
   },
   "outputs": [],
   "source": [
    "from Config import cfg\n",
    "from Dataset_Generator import get_loaders\n",
    "from train_utils import update_pretrained_model\n",
    "from train_ import train_\n",
    "from eval_  import eval_\n",
    "import warnings\n",
    "warnings.filterwarnings(\"ignore\")"
   ]
  },
  {
   "cell_type": "code",
   "execution_count": 6,
   "metadata": {
    "id": "J666gfQ55WDw"
   },
   "outputs": [],
   "source": [
    "\n",
    "train_loader, val_loader, test_loader = get_loaders(cfg.model.train,\n",
    "                                                    cfg.model.val,\n",
    "                                                    cfg.model.test,\n",
    "                                                    cfg.model.classes,\n",
    "                                                    cfg.model.batch_size,\n",
    "                                                    cfg.model.shuffle\n",
    "                                                    )"
   ]
  },
  {
   "cell_type": "code",
   "execution_count": 7,
   "metadata": {
    "colab": {
     "base_uri": "https://localhost:8080/"
    },
    "id": "Dujjpw6X6yES",
    "outputId": "9dd4494b-fdbe-4954-f941-52c132005dd8"
   },
   "outputs": [
    {
     "name": "stderr",
     "output_type": "stream",
     "text": [
      "Downloading: \"https://download.pytorch.org/models/resnet50-11ad3fa6.pth\" to /root/.cache/torch/hub/checkpoints/resnet50-11ad3fa6.pth\n",
      "100%|██████████| 97.8M/97.8M [00:00<00:00, 111MB/s]\n"
     ]
    }
   ],
   "source": [
    "model, grad_cam, criterion, optimizer, scheduler, early_stopping, history = \\\n",
    "update_pretrained_model(cfg.model.pretrained_models[1],cfg.model.last_ckpt_path[1])"
   ]
  },
  {
   "cell_type": "code",
   "execution_count": null,
   "metadata": {},
   "outputs": [],
   "source": [
    "train_(\n",
    "       train_loader   = train_loader ,\n",
    "       val_loader     = val_loader ,\n",
    "       test_loader    = test_loader ,\n",
    "       model          = model ,\n",
    "       grad_cam       = grad_cam ,\n",
    "       optimizer      = optimizer ,\n",
    "       epochs         = cfg.model.epochs ,\n",
    "       criterion      = criterion ,\n",
    "       scheduler      = scheduler ,\n",
    "       device         = cfg.model.device ,\n",
    "       last_ckpt_path = cfg.model.last_ckpt_path[1] ,\n",
    "       best_ckpt_path = cfg.model.best_ckpt_path[1] ,\n",
    "       early_stopping = early_stopping,\n",
    "       history        = history\n",
    "       )"
   ]
  },
  {
   "cell_type": "code",
   "execution_count": 9,
   "metadata": {
    "id": "X_GWLAlsH1vw"
   },
   "outputs": [],
   "source": [
    "model, grad_cam, criterion, optimizer, scheduler, early_stopping, history = \\\n",
    "update_pretrained_model(cfg.model.pretrained_models[1],cfg.model.best_ckpt_path[1])"
   ]
  },
  {
   "cell_type": "code",
   "execution_count": 10,
   "metadata": {
    "id": "j3IBQI-dBeFX"
   },
   "outputs": [],
   "source": [
    "train_loss, train_accuracy, train_recall_precision = eval_(train_loader, model, criterion, cfg.model.device)\n",
    "val_loss  , val_accuracy  ,   val_recall_precision = eval_(val_loader, model, criterion, cfg.model.device)\n",
    "test_loss , test_accuracy ,  test_recall_precision = eval_(test_loader, model, criterion, cfg.model.device)"
   ]
  },
  {
   "cell_type": "code",
   "execution_count": 11,
   "metadata": {
    "colab": {
     "base_uri": "https://localhost:8080/"
    },
    "id": "k_RoVrG6BeBH",
    "outputId": "122c7c77-7294-48e6-93cd-ebc2e461744b"
   },
   "outputs": [
    {
     "name": "stdout",
     "output_type": "stream",
     "text": [
      "train_loss = 0.207, train_accuracy = 0.933    train_recall_precision =0.932 \n"
     ]
    }
   ],
   "source": [
    "print(f'train_loss = {round(train_loss / len(train_loader) , 3)}, train_accuracy = {round(train_accuracy / len(train_loader) , 3)}\\\n",
    "    train_recall_precision ={round(train_recall_precision / len(train_loader) , 3)} ')"
   ]
  },
  {
   "cell_type": "code",
   "execution_count": 12,
   "metadata": {
    "colab": {
     "base_uri": "https://localhost:8080/"
    },
    "id": "9R6dZ3ZHBdwo",
    "outputId": "4682a5b4-083c-4a06-831e-53f2dd2b6166"
   },
   "outputs": [
    {
     "name": "stdout",
     "output_type": "stream",
     "text": [
      "val_loss = 0.724, val_accuracy = 0.775      val_recall_precision =0.775 \n"
     ]
    }
   ],
   "source": [
    "print(f'val_loss = {round(val_loss / len(val_loader), 3)}, val_accuracy = {round(val_accuracy / len(val_loader), 3)}\\\n",
    "      val_recall_precision ={round(val_recall_precision / len(val_loader), 3)} ')"
   ]
  },
  {
   "cell_type": "code",
   "execution_count": 13,
   "metadata": {
    "colab": {
     "base_uri": "https://localhost:8080/"
    },
    "id": "NwvOhOtRCqVR",
    "outputId": "8278c5ef-0ee4-4d35-e123-6b08fbf7a9c3"
   },
   "outputs": [
    {
     "name": "stdout",
     "output_type": "stream",
     "text": [
      "test_loss = 0.656, test_accuracy = 0.778      test_recall_precision =0.777 \n"
     ]
    }
   ],
   "source": [
    "    print(f'test_loss = {round(test_loss / len(test_loader), 3)}, test_accuracy = {round(test_accuracy / len(test_loader), 3)}\\\n",
    "          test_recall_precision ={round(test_recall_precision / len(test_loader), 3)} ')"
   ]
  },
  {
   "cell_type": "code",
   "execution_count": null,
   "metadata": {
    "id": "McwTOrbnCsCh"
   },
   "outputs": [],
   "source": []
  }
 ],
 "metadata": {
  "accelerator": "GPU",
  "colab": {
   "gpuType": "T4",
   "provenance": []
  },
  "kernelspec": {
   "display_name": "Python 3 (ipykernel)",
   "language": "python",
   "name": "python3"
  },
  "language_info": {
   "codemirror_mode": {
    "name": "ipython",
    "version": 3
   },
   "file_extension": ".py",
   "mimetype": "text/x-python",
   "name": "python",
   "nbconvert_exporter": "python",
   "pygments_lexer": "ipython3",
   "version": "3.8.13"
  }
 },
 "nbformat": 4,
 "nbformat_minor": 1
}
