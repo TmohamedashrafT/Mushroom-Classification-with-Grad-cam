{
 "cells": [
  {
   "cell_type": "code",
   "execution_count": 1,
   "metadata": {
    "colab": {
     "base_uri": "https://localhost:8080/"
    },
    "id": "4rNXzwXi_5XC",
    "outputId": "f9c588ae-3820-4c62-c674-62286dfc00ba"
   },
   "outputs": [
    {
     "name": "stdout",
     "output_type": "stream",
     "text": [
      "/content/drive/.shortcut-targets-by-id/1fbjscUK86wUjEst_7siU-DQMq0J3RGUo/mushrooms-classification\n"
     ]
    }
   ],
   "source": [
    "%cd /content/drive/MyDrive/mushrooms-classification"
   ]
  },
  {
   "cell_type": "code",
   "execution_count": 2,
   "metadata": {
    "id": "3nu5SjkcAfqw"
   },
   "outputs": [],
   "source": [
    "from Config import cfg\n",
    "from Dataset_Generator import get_loaders\n",
    "from train_utils import update_pretrained_model\n",
    "from train_ import train_\n",
    "from eval_  import eval_\n",
    "import torch.nn as nn\n",
    "import torch\n",
    "from sklearn.utils import class_weight\n",
    "import warnings\n",
    "warnings.filterwarnings(\"ignore\")"
   ]
  },
  {
   "cell_type": "code",
   "execution_count": 6,
   "metadata": {
    "id": "wHjAKdOSKWCa"
   },
   "outputs": [],
   "source": [
    "\n",
    "train_loader, val_loader, test_loader = get_loaders(cfg.model.train,\n",
    "                                                    cfg.model.val,\n",
    "                                                    cfg.model.test,\n",
    "                                                    cfg.model.classes,\n",
    "                                                    cfg.model.batch_size,\n",
    "                                                    cfg.model.shuffle\n",
    "                                                    )"
   ]
  },
  {
   "cell_type": "code",
   "execution_count": 8,
   "metadata": {
    "colab": {
     "base_uri": "https://localhost:8080/"
    },
    "id": "E-bSJt8NAmzw",
    "outputId": "d8e05cd2-d96c-4d6a-8842-14633f689655"
   },
   "outputs": [
    {
     "name": "stderr",
     "output_type": "stream",
     "text": [
      "Downloading: \"https://download.pytorch.org/models/convnext_base-6075fbad.pth\" to /root/.cache/torch/hub/checkpoints/convnext_base-6075fbad.pth\n",
      "100%|██████████| 338M/338M [00:02<00:00, 137MB/s]\n"
     ]
    }
   ],
   "source": [
    "model, grad_cam, criterion, optimizer, scheduler, early_stopping, history = \\\n",
    "update_pretrained_model(cfg.model.pretrained_models[2],cfg.model.last_ckpt_path[2])"
   ]
  },
  {
   "cell_type": "code",
   "execution_count": null,
   "metadata": {},
   "outputs": [],
   "source": [
    "train_(\n",
    "       train_loader   = train_loader ,\n",
    "       val_loader     = val_loader ,\n",
    "       test_loader    = test_loader ,\n",
    "       model          = model ,\n",
    "       grad_cam       = grad_cam ,\n",
    "       optimizer      = optimizer ,\n",
    "       epochs         = cfg.model.epochs ,\n",
    "       criterion      = criterion ,\n",
    "       scheduler      = scheduler ,\n",
    "       device         = cfg.model.device ,\n",
    "       last_ckpt_path = cfg.model.last_ckpt_path[2] ,\n",
    "       best_ckpt_path = cfg.model.best_ckpt_path[2] ,\n",
    "       early_stopping = early_stopping,\n",
    "       history        = history\n",
    "       )"
   ]
  },
  {
   "cell_type": "code",
   "execution_count": null,
   "metadata": {
    "id": "EOVGAWMGCDc9"
   },
   "outputs": [],
   "source": [
    "import numpy as np\n",
    "all_labels = []\n",
    "for _, labels in train_loader:\n",
    "  all_labels.append(labels)\n",
    "all_labels = np.concatenate(all_labels, 0)"
   ]
  },
  {
   "cell_type": "code",
   "execution_count": null,
   "metadata": {
    "id": "vxDalZBfec2M"
   },
   "outputs": [],
   "source": [
    "class_weights =  class_weight.compute_class_weight('balanced',\n",
    "                                                 classes = np.arange(0,len(cfg.model.classes)),\n",
    "                                                 y = all_labels)"
   ]
  },
  {
   "cell_type": "code",
   "execution_count": null,
   "metadata": {
    "id": "9_SA3ZHGni_N"
   },
   "outputs": [],
   "source": [
    "class_weights = torch.from_numpy(class_weights).to('cuda',dtype=torch.float)"
   ]
  },
  {
   "cell_type": "code",
   "execution_count": null,
   "metadata": {
    "id": "NEhC3iiuggnE"
   },
   "outputs": [],
   "source": [
    "criterion = nn.CrossEntropyLoss(weight = class_weights,label_smoothing = 0.1)"
   ]
  },
  {
   "cell_type": "code",
   "execution_count": null,
   "metadata": {},
   "outputs": [],
   "source": [
    "train_(\n",
    "       train_loader   = train_loader ,\n",
    "       val_loader     = val_loader ,\n",
    "       test_loader    = test_loader ,\n",
    "       model          = model ,\n",
    "       grad_cam       = grad_cam ,\n",
    "       optimizer      = optimizer ,\n",
    "       epochs         = cfg.model.epochs ,\n",
    "       criterion      = criterion ,\n",
    "       scheduler      = scheduler ,\n",
    "       device         = cfg.model.device ,\n",
    "       last_ckpt_path = cfg.model.last_ckpt_path[2] ,\n",
    "       best_ckpt_path = cfg.model.best_ckpt_path[2] ,\n",
    "       early_stopping = early_stopping,\n",
    "       history        = history\n",
    "       )"
   ]
  },
  {
   "cell_type": "code",
   "execution_count": null,
   "metadata": {
    "id": "8qFCGwzz7_9H"
   },
   "outputs": [],
   "source": [
    "model, _, criterion, _, _, _, history = \\\n",
    "update_pretrained_model(cfg.model.pretrained_models[2],cfg.model.best_ckpt_path[2])"
   ]
  },
  {
   "cell_type": "code",
   "execution_count": 10,
   "metadata": {
    "id": "9Mim_PblgaR1"
   },
   "outputs": [],
   "source": [
    "train_loss, train_accuracy, train_recall_precision = eval_(train_loader, model, criterion, cfg.model.device)\n",
    "val_loss  , val_accuracy  ,   val_recall_precision = eval_(val_loader, model, criterion, cfg.model.device)\n",
    "test_loss , test_accuracy ,  test_recall_precision = eval_(test_loader, model, criterion, cfg.model.device)"
   ]
  },
  {
   "cell_type": "code",
   "execution_count": 12,
   "metadata": {
    "colab": {
     "base_uri": "https://localhost:8080/"
    },
    "id": "VJkgiQnl8HP4",
    "outputId": "74052797-e4d1-4135-d498-25658bf88eb5"
   },
   "outputs": [
    {
     "name": "stdout",
     "output_type": "stream",
     "text": [
      "train_loss = 0.16, train_accuracy = 0.998    train_recall_precision =0.998 \n"
     ]
    }
   ],
   "source": [
    "print(f'train_loss = {round(train_loss / len(train_loader) , 3)}, train_accuracy = {round(train_accuracy / len(train_loader) , 3)}\\\n",
    "    train_recall_precision ={round(train_recall_precision / len(train_loader) , 3)} ')"
   ]
  },
  {
   "cell_type": "code",
   "execution_count": 13,
   "metadata": {
    "colab": {
     "base_uri": "https://localhost:8080/"
    },
    "id": "L4Ucj9drlB7n",
    "outputId": "27941da3-dc6d-4697-d035-9d1434d328ff"
   },
   "outputs": [
    {
     "name": "stdout",
     "output_type": "stream",
     "text": [
      "val_loss = 0.419, val_accuracy = 0.914      val_recall_precision =0.912 \n"
     ]
    }
   ],
   "source": [
    "print(f'val_loss = {round(val_loss / len(val_loader), 3)}, val_accuracy = {round(val_accuracy / len(val_loader), 3)}\\\n",
    "      val_recall_precision ={round(val_recall_precision / len(val_loader), 3)} ')"
   ]
  },
  {
   "cell_type": "code",
   "execution_count": 11,
   "metadata": {
    "colab": {
     "base_uri": "https://localhost:8080/"
    },
    "id": "TQgmtI2H8YnF",
    "outputId": "444d9aed-00c4-416f-e647-82a5f0a23f9a"
   },
   "outputs": [
    {
     "name": "stdout",
     "output_type": "stream",
     "text": [
      "test_loss = 0.403, test_accuracy = 0.921      test_recall_precision =0.918 \n"
     ]
    }
   ],
   "source": [
    "print(f'test_loss = {round(test_loss / len(test_loader), 3)}, test_accuracy = {round(test_accuracy / len(test_loader), 3)}\\\n",
    "      test_recall_precision ={round(test_recall_precision / len(test_loader), 3)} ')"
   ]
  }
 ],
 "metadata": {
  "accelerator": "GPU",
  "colab": {
   "gpuType": "T4",
   "provenance": []
  },
  "kernelspec": {
   "display_name": "Python 3 (ipykernel)",
   "language": "python",
   "name": "python3"
  },
  "language_info": {
   "codemirror_mode": {
    "name": "ipython",
    "version": 3
   },
   "file_extension": ".py",
   "mimetype": "text/x-python",
   "name": "python",
   "nbconvert_exporter": "python",
   "pygments_lexer": "ipython3",
   "version": "3.8.13"
  }
 },
 "nbformat": 4,
 "nbformat_minor": 1
}
